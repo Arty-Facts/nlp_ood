{
 "cells": [
  {
   "cell_type": "markdown",
   "metadata": {
    "id": "XCR6m0HjWGVV"
   },
   "source": [
    "## NLP OOD Detection with Score-Based Generative Models\n",
    "\n",
    "### Score and Score-Based Models\n",
    "Given a probablity density function $p(\\mathbf{x})$, we define the *score* as $$\\nabla_\\mathbf{x} \\log p(\\mathbf{x}).$$ As you might guess, score-based generative models are trained to estimate $\\nabla_\\mathbf{x} \\log p(\\mathbf{x})$. Unlike likelihood-based models such as flow models or autoregressive models, score-based models do not have to be normalized and are easier to parameterize. For example, consider a non-normalized statistical model $p_\\theta(\\mathbf{x}) = \\frac{e^{-E_\\theta(\\mathbf{x})}}{Z_\\theta}$, where $E_\\theta(\\mathbf{x}) \\in \\mathbb{R}$ is called the energy function and $Z_\\theta$ is an unknown normalizing constant that makes $p_\\theta(\\mathbf{x})$ a proper probability density function. The energy function is typically parameterized by a flexible neural network. When training it as a likelihood model, we need to know the normalizing constant $Z_\\theta$ by computing complex high-dimensional integrals, which is typically intractable. In constrast, when computing its score, we obtain $\\nabla_\\mathbf{x} \\log p_\\theta(\\mathbf{x}) = -\\nabla_\\mathbf{x} E_\\theta(\\mathbf{x})$ which does not require computing the normalizing constant $Z_\\theta$.\n",
    "\n",
    "In fact, any neural network that maps an input vector $\\mathbf{x} \\in \\mathbb{R}^d$ to an output vector $\\mathbf{y} \\in \\mathbb{R}^d$ can be used as a score-based model, as long as the output and input have the same dimensionality. This yields huge flexibility in choosing model architectures.\n",
    "\n",
    "### Perturbing Data with a Diffusion Process\n",
    "\n",
    "In order to generate samples with score-based models, we need to consider a [diffusion process](https://en.wikipedia.org/wiki/Diffusion_process) that corrupts data slowly into random noise. Scores will arise when we reverse this diffusion process for sample generation. You will see this later in the notebook.\n",
    "\n",
    "A diffusion process is a [stochastic process](https://en.wikipedia.org/wiki/Stochastic_process#:~:text=A%20stochastic%20or%20random%20process%20can%20be%20defined%20as%20a,an%20element%20in%20the%20set.) similar to [Brownian motion](https://en.wikipedia.org/wiki/Brownian_motion). Their paths are like the trajectory of a particle submerged in a flowing fluid, which moves randomly due to unpredictable collisions with other particles. Let $\\{\\mathbf{x}(t) \\in \\mathbb{R}^d \\}_{t=0}^T$ be a diffusion process, indexed by the continuous time variable $t\\in [0,T]$. A diffusion process is governed by a stochastic differential equation (SDE), in the following form\n",
    "\n",
    "\\begin{align*}\n",
    "d \\mathbf{x} = \\mathbf{f}(\\mathbf{x}, t) d t + g(t) d \\mathbf{w},\n",
    "\\end{align*}\n",
    "\n",
    "where $\\mathbf{f}(\\cdot, t): \\mathbb{R}^d \\to \\mathbb{R}^d$ is called the *drift coefficient* of the SDE, $g(t) \\in \\mathbb{R}$ is called the *diffusion coefficient*, and $\\mathbf{w}$ represents the standard Brownian motion. You can understand an SDE as a stochastic generalization to ordinary differential equations (ODEs). Particles moving according to an SDE not only follows the deterministic drift $\\mathbf{f}(\\mathbf{x}, t)$, but are also affected by the random noise coming from $g(t) d\\mathbf{w}$. From now on, we use $p_t(\\mathbf{x})$ to denote the distribution of $\\mathbf{x}(t)$.\n",
    "\n",
    "For score-based generative modeling, we will choose a diffusion process such that $\\mathbf{x}(0) \\sim p_0$, and $\\mathbf{x}(T) \\sim p_T$. Here $p_0$ is the data distribution where we have a dataset of i.i.d. samples, and $p_T$ is the prior distribution that has a tractable form and easy to sample from. The noise perturbation by the diffusion process is large enough to ensure $p_T$ does not depend on $p_0$.\n",
    "\n",
    "### Reversing the Diffusion Process Yields Score-Based Generative Models\n",
    "By starting from a sample from the prior distribution $p_T$ and reversing the diffusion process, we will be able to obtain a sample from the data distribution $p_0$. Crucially, the reverse process is a diffusion process running backwards in time. It is given by the following reverse-time SDE\n",
    "\n",
    "\\begin{align}\n",
    "  d\\mathbf{x} = [\\mathbf{f}(\\mathbf{x}, t) - g^2(t)\\nabla_{\\mathbf{x}}\\log p_t(\\mathbf{x})] dt + g(t) d\\bar{\\mathbf{w}},\n",
    "\\end{align}\n",
    "\n",
    "where $\\bar{\\mathbf{w}}$ is a Brownian motion in the reverse time direction, and $dt$ represents an infinitesimal negative time step. This reverse SDE can be computed once we know the drift and diffusion coefficients of the forward SDE, as well as the score of $p_t(\\mathbf{x})$ for each $t\\in[0, T]$.\n",
    "\n",
    "The overall intuition of score-based generative modeling with SDEs can be summarized in the illustration below\n",
    "\n",
    "![sde schematic](https://drive.google.com/uc?id=1Ptvb790eQRYMHLnDGBeYZK9A2cF-JMEP)\n",
    "\n",
    "\n",
    "### Score Estimation\n",
    "\n",
    "Based on the above intuition, we can use the time-dependent score function $\\nabla_\\mathbf{x} \\log p_t(\\mathbf{x})$ to construct the reverse-time SDE, and then solve it numerically to obtain samples from $p_0$ using samples from a prior distribution $p_T$. We can train a time-dependent score-based model $s_\\theta(\\mathbf{x}, t)$ to approximate $\\nabla_\\mathbf{x} \\log p_t(\\mathbf{x})$, using the following weighted sum of [denoising score matching](http://www.iro.umontreal.ca/~vincentp/Publications/smdae_techreport.pdf) objectives.\n",
    "\n",
    "\\begin{align}\n",
    "\\min_\\theta \\mathbb{E}_{t\\sim \\mathcal{U}(0, T)} [\\lambda(t) \\mathbb{E}_{\\mathbf{x}(0) \\sim p_0(\\mathbf{x})}\\mathbf{E}_{\\mathbf{x}(t) \\sim p_{0t}(\\mathbf{x}(t) \\mid \\mathbf{x}(0))}[ \\|s_\\theta(\\mathbf{x}(t), t) - \\nabla_{\\mathbf{x}(t)}\\log p_{0t}(\\mathbf{x}(t) \\mid \\mathbf{x}(0))\\|_2^2]],\n",
    "\\end{align}\n",
    "where $\\mathcal{U}(0,T)$ is a uniform distribution over $[0, T]$, $p_{0t}(\\mathbf{x}(t) \\mid \\mathbf{x}(0))$ denotes the transition probability from $\\mathbf{x}(0)$ to $\\mathbf{x}(t)$, and $\\lambda(t) \\in \\mathbb{R}_{>0}$ denotes a positive weighting function.\n",
    "\n",
    "In the objective, the expectation over $\\mathbf{x}(0)$ can be estimated with empirical means over data samples from $p_0$. The expectation over $\\mathbf{x}(t)$ can be estimated by sampling from $p_{0t}(\\mathbf{x}(t) \\mid \\mathbf{x}(0))$, which is efficient when the drift coefficient $\\mathbf{f}(\\mathbf{x}, t)$ is affine. The weight function $\\lambda(t)$ is typically chosen to be inverse proportional to $\\mathbb{E}[\\|\\nabla_{\\mathbf{x}}\\log p_{0t}(\\mathbf{x}(t) \\mid \\mathbf{x}(0)) \\|_2^2]$.\n",
    "\n"
   ]
  },
  {
   "cell_type": "markdown",
   "metadata": {
    "id": "GFuMaPov5HlV"
   },
   "source": [
    "### Time-Dependent Score-Based Model\n",
    "\n",
    "There are no restrictions on the network architecture of time-dependent score-based models, except that their output should have the same dimensionality as the input, and they should be conditioned on time.\n",
    "\n",
    "Several useful tips on architecture choice:\n",
    "* It usually performs well to use the [U-net](https://arxiv.org/abs/1505.04597) architecture as the backbone of the score network $s_\\theta(\\mathbf{x}, t)$,\n",
    "\n",
    "* We can incorporate the time information via [Gaussian random features](https://arxiv.org/abs/2006.10739). Specifically, we first sample $\\omega \\sim \\mathcal{N}(\\mathbf{0}, s^2\\mathbf{I})$ which is subsequently fixed for the model (i.e., not learnable). For a time step $t$, the corresponding Gaussian random feature is defined as\n",
    "\\begin{align}\n",
    "  [\\sin(2\\pi \\omega t) ; \\cos(2\\pi \\omega t)],\n",
    "\\end{align}\n",
    "where $[\\vec{a} ; \\vec{b}]$ denotes the concatenation of vector $\\vec{a}$ and $\\vec{b}$. This Gaussian random feature can be used as an encoding for time step $t$ so that the score network can condition on $t$ by incorporating this encoding. We will see this further in the code.\n",
    "\n",
    "* We can rescale the output of the U-net by $1/\\sqrt{\\mathbb{E}[\\|\\nabla_{\\mathbf{x}}\\log p_{0t}(\\mathbf{x}(t) \\mid \\mathbf{x}(0)) \\|_2^2]}$. This is because the optimal $s_\\theta(\\mathbf{x}(t), t)$ has an $\\ell_2$-norm close to $\\mathbb{E}[\\|\\nabla_{\\mathbf{x}}\\log p_{0t}(\\mathbf{x}(t) \\mid \\mathbf{x}(0))]\\|_2$, and the rescaling helps capture the norm of the true score. Recall that the training objective contains sums of the form\n",
    "\\begin{align*}\n",
    "\\mathbf{E}_{\\mathbf{x}(t) \\sim p_{0t}(\\mathbf{x}(t) \\mid \\mathbf{x}(0))}[ \\|s_\\theta(\\mathbf{x}(t), t) - \\nabla_{\\mathbf{x}(t)}\\log p_{0t}(\\mathbf{x}(t) \\mid \\mathbf{x}(0))\\|_2^2].\n",
    "\\end{align*}\n",
    "Therefore, it is natural to expect that the optimal score model $s_\\theta(\\mathbf{x}, t) \\approx \\nabla_{\\mathbf{x}(t)} \\log p_{0t}(\\mathbf{x}(t) \\mid \\mathbf{x}(0))$.\n",
    "\n",
    "* Use [exponential moving average](https://discuss.pytorch.org/t/how-to-apply-exponential-moving-average-decay-for-variables/10856/3) (EMA) of weights when sampling. This can greatly improve sample quality, but requires slightly longer training time, and requires more work in implementation. We do not include this in this tutorial, but highly recommend it when you employ score-based generative modeling to tackle more challenging real problems."
   ]
  },
  {
   "cell_type": "code",
   "execution_count": 1,
   "metadata": {
    "cellView": "form",
    "id": "YyQtV7155Nht"
   },
   "outputs": [
    {
     "name": "stderr",
     "output_type": "stream",
     "text": [
      "2024-04-17 11:17:22.102499: I tensorflow/core/util/port.cc:113] oneDNN custom operations are on. You may see slightly different numerical results due to floating-point round-off errors from different computation orders. To turn them off, set the environment variable `TF_ENABLE_ONEDNN_OPTS=0`.\n",
      "2024-04-17 11:17:22.105912: I external/local_tsl/tsl/cuda/cudart_stub.cc:32] Could not find cuda drivers on your machine, GPU will not be used.\n",
      "2024-04-17 11:17:22.143985: I tensorflow/core/platform/cpu_feature_guard.cc:210] This TensorFlow binary is optimized to use available CPU instructions in performance-critical operations.\n",
      "To enable the following instructions: AVX2 AVX512F AVX512_VNNI FMA, in other operations, rebuild TensorFlow with the appropriate compiler flags.\n",
      "2024-04-17 11:17:23.144840: W tensorflow/compiler/tf2tensorrt/utils/py_utils.cc:38] TF-TRT Warning: Could not find TensorRT\n"
     ]
    }
   ],
   "source": [
    "import functools\n",
    "import pathlib\n",
    "import torch\n",
    "import torch.nn as nn\n",
    "import project.utils as utils\n",
    "import project.train as train\n",
    "import matplotlib.pyplot as plt\n",
    "import pandas as pd\n",
    "from transformers import AutoTokenizer, CLIPTextModel, AutoModel, CLIPModel\n",
    "from torch.utils.data import DataLoader\n",
    "from sklearn.model_selection import train_test_split\n",
    "from functools import partial\n",
    "\n",
    "from project.simple_mlp import SimpleMLP\n",
    "\n",
    "%load_ext autoreload\n",
    "%autoreload 2"
   ]
  },
  {
   "cell_type": "markdown",
   "metadata": {
    "id": "PpJSwfyY6mJz"
   },
   "source": [
    "## Training with Weighted Sum of Denoising Score Matching Objectives\n",
    "\n",
    "Now let's get our hands dirty on training. First of all, we need to specify an SDE that perturbs the data distribution $p_0$ to a prior distribution $p_T$. We choose the following SDE\n",
    "\\begin{align*}\n",
    "d \\mathbf{x} = \\sigma^t d\\mathbf{w}, \\quad t\\in[0,1]\n",
    "\\end{align*}\n",
    "In this case,\n",
    "\\begin{align*}\n",
    "p_{0t}(\\mathbf{x}(t) \\mid \\mathbf{x}(0)) = \\mathcal{N}\\bigg(\\mathbf{x}(t); \\mathbf{x}(0), \\frac{1}{2\\log \\sigma}(\\sigma^{2t} - 1) \\mathbf{I}\\bigg)\n",
    "\\end{align*}\n",
    "and we can choose the weighting function $\\lambda(t) = \\frac{1}{2 \\log \\sigma}(\\sigma^{2t} - 1)$.\n",
    "\n",
    "When $\\sigma$ is large, the prior distribution, $p_{t=1}$ is\n",
    "\\begin{align*}\n",
    "\\int p_0(\\mathbf{y})\\mathcal{N}\\bigg(\\mathbf{x}; \\mathbf{y}, \\frac{1}{2 \\log \\sigma}(\\sigma^2 - 1)\\mathbf{I}\\bigg) d \\mathbf{y} \\approx \\mathbf{N}\\bigg(\\mathbf{x}; \\mathbf{0}, \\frac{1}{2 \\log \\sigma}(\\sigma^2 - 1)\\mathbf{I}\\bigg),\n",
    "\\end{align*}\n",
    "which is approximately independent of the data distribution and is easy to sample from.\n",
    "\n",
    "Intuitively, this SDE captures a continuum of Gaussian perturbations with variance function $\\frac{1}{2 \\log \\sigma}(\\sigma^{2t} - 1)$. This continuum of perturbations allows us to gradually transfer samples from a data distribution $p_0$ to a simple Gaussian distribution $p_1$."
   ]
  },
  {
   "cell_type": "markdown",
   "metadata": {},
   "source": [
    "# Lets use amazon reviews dataset for initial experiments"
   ]
  },
  {
   "cell_type": "code",
   "execution_count": 2,
   "metadata": {},
   "outputs": [
    {
     "name": "stdout",
     "output_type": "stream",
     "text": [
      "--2024-04-17 11:36:19--  http://www.cse.chalmers.se/~richajo/waspnlp2024/dredze_amazon_reviews.zip\n",
      "Resolving www.cse.chalmers.se (www.cse.chalmers.se)... 129.16.222.93\n",
      "Connecting to www.cse.chalmers.se (www.cse.chalmers.se)|129.16.222.93|:80... connected.\n",
      "HTTP request sent, awaiting response... 301 Moved Permanently\n",
      "Location: https://www.cse.chalmers.se/~richajo/waspnlp2024/dredze_amazon_reviews.zip [following]\n",
      "--2024-04-17 11:36:19--  https://www.cse.chalmers.se/~richajo/waspnlp2024/dredze_amazon_reviews.zip\n",
      "Connecting to www.cse.chalmers.se (www.cse.chalmers.se)|129.16.222.93|:443... connected.\n",
      "HTTP request sent, awaiting response... 200 OK\n",
      "Length: 3431912 (3,3M) [application/zip]\n",
      "Saving to: ‘dredze_amazon_reviews.zip’\n",
      "\n",
      "dredze_amazon_revie 100%[===================>]   3,27M  --.-KB/s    in 0,1s    \n",
      "\n",
      "2024-04-17 11:36:19 (26,6 MB/s) - ‘dredze_amazon_reviews.zip’ saved [3431912/3431912]\n",
      "\n",
      "Archive:  dredze_amazon_reviews.zip\n",
      "  inflating: dredze_amazon_reviews.tsv  \n"
     ]
    }
   ],
   "source": [
    "if pathlib.Path('dredze_amazon_reviews.zip').exists():\n",
    "    print(\"Already downloaded\")\n",
    "else:\n",
    "    !wget http://www.cse.chalmers.se/~richajo/waspnlp2024/dredze_amazon_reviews.zip\n",
    "    !unzip dredze_amazon_reviews.zip"
   ]
  },
  {
   "cell_type": "code",
   "execution_count": 3,
   "metadata": {},
   "outputs": [],
   "source": [
    "amazon_corpus = pd.read_csv('dredze_amazon_reviews.tsv', sep='\\t', header=None, names=['product', 'sentiment', 'text'])\n",
    "emb_amazon_corpus = amazon_corpus.copy()"
   ]
  },
  {
   "cell_type": "markdown",
   "metadata": {},
   "source": [
    "# Firstly we will to acquire the data and preproces it to some embedding space\n",
    "\n",
    "We will use the [Hugging Face Transformers](https://huggingface.co/transformers/) library to load the data and preprocess it."
   ]
  },
  {
   "cell_type": "code",
   "execution_count": 4,
   "metadata": {},
   "outputs": [],
   "source": [
    "class TextEncoder(nn.Module):\n",
    "\n",
    "    def __init__(self, model_name):\n",
    "        super().__init__()\n",
    "        self.name = model_name\n",
    "        self.bert_model = AutoModel.from_pretrained(model_name)\n",
    "\n",
    "    def forward(self, Xbatch, Xmask):\n",
    "        ber_out = self.bert_model(input_ids=Xbatch, attention_mask=Xmask)\n",
    "        return ber_out.last_hidden_state[:, 0, :]\n",
    "    \n",
    "class DocumentBatcher:\n",
    "    \"\"\"A collator that builds a batch from a number of documents.\"\"\"\n",
    "\n",
    "    def __init__(self, pad_id):\n",
    "        self.pad_id = pad_id\n",
    "\n",
    "    def make_batch_1(self, X):\n",
    "        \"\"\"Build a batch from a number of documents.\n",
    "        Returns a tensor of shape [n_docs, max_doc_length].\"\"\"\n",
    "\n",
    "        # How long is the longest document in this batch?\n",
    "        max_len = max(len(x) for x in X)\n",
    "\n",
    "        # Build the document tensor. We pad the shorter documents so that all documents\n",
    "        # have the same length.\n",
    "        Xpadded = torch.as_tensor([x + [self.pad_id]*(max_len-len(x)) for x in X])\n",
    "        return Xpadded\n",
    "\n",
    "\n",
    "    def make_batch_2(self, XY):\n",
    "        \"\"\"Build a batch from a number of documents and their labels.\n",
    "        Returns two tensors X and Y, where X is the document tensor,\n",
    "        of shape [n_docs, max_doc_length]\n",
    "\n",
    "        and\n",
    "\n",
    "        Y is the label tensor, of shape [n_docs].\n",
    "        \"\"\"\n",
    "\n",
    "        # How long is the longest document in this batch?\n",
    "        max_len = max(len(x) for x, _ in XY)\n",
    "\n",
    "        # Build the document tensor. We pad the shorter documents so that all documents\n",
    "        # have the same length.\n",
    "        Xpadded = torch.as_tensor([x + [self.pad_id]*(max_len-len(x)) for x, _ in XY])\n",
    "\n",
    "        # Build the label tensor.\n",
    "        Y = torch.as_tensor([y for _, y in XY])\n",
    "\n",
    "        return Xpadded, Y\n",
    "\n",
    "\n",
    "    def __call__(self, instances):\n",
    "        if isinstance(instances[0], tuple):\n",
    "            return self.make_batch_2(instances)\n",
    "        else:\n",
    "            return self.make_batch_1(instances)\n",
    "        \n",
    "def encoder_loader(data, tokenizer, max_length=512, batch_size=32):\n",
    "        if isinstance(data, pd.Series):\n",
    "            data = list(data)\n",
    "        data_encoded = tokenizer(data, truncation=True, max_length=max_length).input_ids\n",
    "        batcher = DocumentBatcher(tokenizer.pad_token_id)\n",
    "        data_index = list(zip(data_encoded, range(len(data_encoded))))\n",
    "        data_loader = DataLoader(data_index, batch_size, collate_fn=batcher)\n",
    "        return data_loader"
   ]
  },
  {
   "cell_type": "markdown",
   "metadata": {},
   "source": [
    "# Lets use Bert embeddings for the data"
   ]
  },
  {
   "cell_type": "code",
   "execution_count": 5,
   "metadata": {},
   "outputs": [
    {
     "data": {
      "application/vnd.jupyter.widget-view+json": {
       "model_id": "348d7e67777e42878a8718fa4363fd89",
       "version_major": 2,
       "version_minor": 0
      },
      "text/plain": [
       "Downloading tokenizer_config.json:   0%|          | 0.00/48.0 [00:00<?, ?B/s]"
      ]
     },
     "metadata": {},
     "output_type": "display_data"
    },
    {
     "data": {
      "application/vnd.jupyter.widget-view+json": {
       "model_id": "aafcb0a68bd14e2290fa0cd7c812b5e7",
       "version_major": 2,
       "version_minor": 0
      },
      "text/plain": [
       "Downloading config.json:   0%|          | 0.00/570 [00:00<?, ?B/s]"
      ]
     },
     "metadata": {},
     "output_type": "display_data"
    },
    {
     "data": {
      "application/vnd.jupyter.widget-view+json": {
       "model_id": "fa40b618511441ff8b835025939568fc",
       "version_major": 2,
       "version_minor": 0
      },
      "text/plain": [
       "Downloading vocab.txt:   0%|          | 0.00/232k [00:00<?, ?B/s]"
      ]
     },
     "metadata": {},
     "output_type": "display_data"
    },
    {
     "data": {
      "application/vnd.jupyter.widget-view+json": {
       "model_id": "33cf1da1be384f2982ce2fd1a97df4c3",
       "version_major": 2,
       "version_minor": 0
      },
      "text/plain": [
       "Downloading tokenizer.json:   0%|          | 0.00/466k [00:00<?, ?B/s]"
      ]
     },
     "metadata": {},
     "output_type": "display_data"
    },
    {
     "data": {
      "application/vnd.jupyter.widget-view+json": {
       "model_id": "201de581f32e4f1fa03a976080e4c9b1",
       "version_major": 2,
       "version_minor": 0
      },
      "text/plain": [
       "Downloading model.safetensors:   0%|          | 0.00/440M [00:00<?, ?B/s]"
      ]
     },
     "metadata": {},
     "output_type": "display_data"
    }
   ],
   "source": [
    "bert_tokenizer = AutoTokenizer.from_pretrained('bert-base-uncased')\n",
    "bert_model = TextEncoder('bert-base-uncased')"
   ]
  },
  {
   "cell_type": "code",
   "execution_count": 6,
   "metadata": {},
   "outputs": [
    {
     "data": {
      "application/vnd.jupyter.widget-view+json": {
       "model_id": "ccc1848c368447d1871a7ab37212c12c",
       "version_major": 2,
       "version_minor": 0
      },
      "text/plain": [
       "Downloading tokenizer_config.json:   0%|          | 0.00/25.0 [00:00<?, ?B/s]"
      ]
     },
     "metadata": {},
     "output_type": "display_data"
    },
    {
     "data": {
      "application/vnd.jupyter.widget-view+json": {
       "model_id": "f4034f29b3c241ae91abcf8ca9bb4f44",
       "version_major": 2,
       "version_minor": 0
      },
      "text/plain": [
       "Downloading config.json:   0%|          | 0.00/481 [00:00<?, ?B/s]"
      ]
     },
     "metadata": {},
     "output_type": "display_data"
    },
    {
     "data": {
      "application/vnd.jupyter.widget-view+json": {
       "model_id": "924ac67c30ff4df786921b268ea00820",
       "version_major": 2,
       "version_minor": 0
      },
      "text/plain": [
       "Downloading vocab.json:   0%|          | 0.00/899k [00:00<?, ?B/s]"
      ]
     },
     "metadata": {},
     "output_type": "display_data"
    },
    {
     "data": {
      "application/vnd.jupyter.widget-view+json": {
       "model_id": "88f6253224364f8896ccf16e67b72d13",
       "version_major": 2,
       "version_minor": 0
      },
      "text/plain": [
       "Downloading merges.txt:   0%|          | 0.00/456k [00:00<?, ?B/s]"
      ]
     },
     "metadata": {},
     "output_type": "display_data"
    },
    {
     "data": {
      "application/vnd.jupyter.widget-view+json": {
       "model_id": "c4b3d64f2b664a05ab0353c8dc40c8e9",
       "version_major": 2,
       "version_minor": 0
      },
      "text/plain": [
       "Downloading tokenizer.json:   0%|          | 0.00/1.36M [00:00<?, ?B/s]"
      ]
     },
     "metadata": {},
     "output_type": "display_data"
    },
    {
     "data": {
      "application/vnd.jupyter.widget-view+json": {
       "model_id": "155a6ad4acf94cd88570621ee72f671e",
       "version_major": 2,
       "version_minor": 0
      },
      "text/plain": [
       "Downloading model.safetensors:   0%|          | 0.00/499M [00:00<?, ?B/s]"
      ]
     },
     "metadata": {},
     "output_type": "display_data"
    },
    {
     "name": "stderr",
     "output_type": "stream",
     "text": [
      "Some weights of RobertaModel were not initialized from the model checkpoint at roberta-base and are newly initialized: ['roberta.pooler.dense.weight', 'roberta.pooler.dense.bias']\n",
      "You should probably TRAIN this model on a down-stream task to be able to use it for predictions and inference.\n"
     ]
    }
   ],
   "source": [
    "roberta_tokenizer = AutoTokenizer.from_pretrained('roberta-base')\n",
    "roberta_model = TextEncoder('roberta-base')"
   ]
  },
  {
   "cell_type": "code",
   "execution_count": 7,
   "metadata": {},
   "outputs": [
    {
     "data": {
      "application/vnd.jupyter.widget-view+json": {
       "model_id": "b6f9dbc72cad42188e521a77a89ffb76",
       "version_major": 2,
       "version_minor": 0
      },
      "text/plain": [
       "Downloading tokenizer_config.json:   0%|          | 0.00/25.0 [00:00<?, ?B/s]"
      ]
     },
     "metadata": {},
     "output_type": "display_data"
    },
    {
     "data": {
      "application/vnd.jupyter.widget-view+json": {
       "model_id": "8342954a88d14531bb89d6009501c398",
       "version_major": 2,
       "version_minor": 0
      },
      "text/plain": [
       "Downloading config.json:   0%|          | 0.00/615 [00:00<?, ?B/s]"
      ]
     },
     "metadata": {},
     "output_type": "display_data"
    },
    {
     "data": {
      "application/vnd.jupyter.widget-view+json": {
       "model_id": "06d1e2ef159c4e1c83c58fe4e6894469",
       "version_major": 2,
       "version_minor": 0
      },
      "text/plain": [
       "Downloading (…)tencepiece.bpe.model:   0%|          | 0.00/5.07M [00:00<?, ?B/s]"
      ]
     },
     "metadata": {},
     "output_type": "display_data"
    },
    {
     "data": {
      "application/vnd.jupyter.widget-view+json": {
       "model_id": "49f140bba66c4c1b97f2b21954a9c473",
       "version_major": 2,
       "version_minor": 0
      },
      "text/plain": [
       "Downloading tokenizer.json:   0%|          | 0.00/9.10M [00:00<?, ?B/s]"
      ]
     },
     "metadata": {},
     "output_type": "display_data"
    },
    {
     "data": {
      "application/vnd.jupyter.widget-view+json": {
       "model_id": "8935c84066e64f118dd696cdc06acc3c",
       "version_major": 2,
       "version_minor": 0
      },
      "text/plain": [
       "Downloading model.safetensors:   0%|          | 0.00/1.12G [00:00<?, ?B/s]"
      ]
     },
     "metadata": {},
     "output_type": "display_data"
    }
   ],
   "source": [
    "xlm_roberta_tokenizer = AutoTokenizer.from_pretrained('xlm-roberta-base')\n",
    "xlm_roberta_model = TextEncoder('xlm-roberta-base')"
   ]
  },
  {
   "cell_type": "markdown",
   "metadata": {},
   "source": [
    "# lets use Clip embeddings for the data"
   ]
  },
  {
   "cell_type": "code",
   "execution_count": 8,
   "metadata": {},
   "outputs": [
    {
     "data": {
      "application/vnd.jupyter.widget-view+json": {
       "model_id": "eac1eb26442247b999fd79b6cbdacd83",
       "version_major": 2,
       "version_minor": 0
      },
      "text/plain": [
       "Downloading config.json:   0%|          | 0.00/4.19k [00:00<?, ?B/s]"
      ]
     },
     "metadata": {},
     "output_type": "display_data"
    },
    {
     "data": {
      "application/vnd.jupyter.widget-view+json": {
       "model_id": "650e35076fac4862963ccdd54954182f",
       "version_major": 2,
       "version_minor": 0
      },
      "text/plain": [
       "Downloading pytorch_model.bin:   0%|          | 0.00/605M [00:00<?, ?B/s]"
      ]
     },
     "metadata": {},
     "output_type": "display_data"
    },
    {
     "data": {
      "application/vnd.jupyter.widget-view+json": {
       "model_id": "d10788dc2fab49c0a1a407a53b04901d",
       "version_major": 2,
       "version_minor": 0
      },
      "text/plain": [
       "Downloading tokenizer_config.json:   0%|          | 0.00/592 [00:00<?, ?B/s]"
      ]
     },
     "metadata": {},
     "output_type": "display_data"
    },
    {
     "data": {
      "application/vnd.jupyter.widget-view+json": {
       "model_id": "f40a43be42a24a76b50d53707ed9a957",
       "version_major": 2,
       "version_minor": 0
      },
      "text/plain": [
       "Downloading vocab.json:   0%|          | 0.00/862k [00:00<?, ?B/s]"
      ]
     },
     "metadata": {},
     "output_type": "display_data"
    },
    {
     "data": {
      "application/vnd.jupyter.widget-view+json": {
       "model_id": "c43ece4d395648f6ab15c6c16ff6ed68",
       "version_major": 2,
       "version_minor": 0
      },
      "text/plain": [
       "Downloading merges.txt:   0%|          | 0.00/525k [00:00<?, ?B/s]"
      ]
     },
     "metadata": {},
     "output_type": "display_data"
    },
    {
     "data": {
      "application/vnd.jupyter.widget-view+json": {
       "model_id": "78da82af245343deb0a9a0da8e39dd25",
       "version_major": 2,
       "version_minor": 0
      },
      "text/plain": [
       "Downloading tokenizer.json:   0%|          | 0.00/2.22M [00:00<?, ?B/s]"
      ]
     },
     "metadata": {},
     "output_type": "display_data"
    },
    {
     "data": {
      "application/vnd.jupyter.widget-view+json": {
       "model_id": "620978bb43dd4aa594a06cb09935a77b",
       "version_major": 2,
       "version_minor": 0
      },
      "text/plain": [
       "Downloading (…)cial_tokens_map.json:   0%|          | 0.00/389 [00:00<?, ?B/s]"
      ]
     },
     "metadata": {},
     "output_type": "display_data"
    }
   ],
   "source": [
    "clip_model = CLIPModel.from_pretrained(\"openai/clip-vit-base-patch32\")\n",
    "clip_tokenizer = AutoTokenizer.from_pretrained(\"openai/clip-vit-base-patch32\")"
   ]
  },
  {
   "cell_type": "code",
   "execution_count": 19,
   "metadata": {},
   "outputs": [],
   "source": [
    "models = [(bert_tokenizer, bert_model), (roberta_tokenizer, roberta_model), (xlm_roberta_tokenizer, xlm_roberta_model)]"
   ]
  },
  {
   "cell_type": "code",
   "execution_count": 20,
   "metadata": {},
   "outputs": [],
   "source": [
    "with torch.no_grad():\n",
    "    for tokenizer, model in models:\n",
    "        if model.name not in emb_amazon_corpus.columns:\n",
    "            emb_amazon_corpus[model.name] = None\n",
    "            model.eval()\n",
    "            model.to('cuda')\n",
    "            # we need to encode the hole text not just the first 512 tokens\n",
    "            for batch, ids in encoder_loader(amazon_corpus.text, tokenizer, max_length=512):\n",
    "                mask = (batch != tokenizer.pad_token_id).long().to('cuda')\n",
    "                batch = batch.to('cuda')\n",
    "                bert_output = model(batch, mask)\n",
    "                for i, idx in enumerate(ids):\n",
    "                    emb_amazon_corpus.at[idx.item(), model.name] = bert_output[i].cpu().detach().numpy()\n",
    "            model.to('cpu')\n",
    "    if 'clip' not in emb_amazon_corpus.columns:\n",
    "        emb_amazon_corpus['clip'] = None\n",
    "        clip_model.eval()\n",
    "        clip_model.to('cuda')\n",
    "        # we need to encode the hole text not just the first 77 tokens\n",
    "        for batch, ids in encoder_loader(amazon_corpus.text, clip_tokenizer, max_length=77):\n",
    "            mask = (batch != clip_tokenizer.pad_token_id).long().to('cuda')\n",
    "            batch = batch.to('cuda')\n",
    "            clip_output = clip_model.get_text_features(input_ids=batch, attention_mask=mask)\n",
    "            for i, idx in enumerate(ids):\n",
    "                emb_amazon_corpus.at[idx.item(), 'clip'] = clip_output[i].cpu().detach().numpy()\n",
    "        clip_model.to('cpu')\n",
    "  "
   ]
  },
  {
   "cell_type": "code",
   "execution_count": 21,
   "metadata": {},
   "outputs": [],
   "source": [
    "pd.to_pickle(emb_amazon_corpus, 'emb_amazon_corpus.pkl')"
   ]
  },
  {
   "cell_type": "code",
   "execution_count": 22,
   "metadata": {},
   "outputs": [],
   "source": [
    "emb_amazon_corpus = pd.read_pickle('emb_amazon_corpus.pkl')"
   ]
  },
  {
   "cell_type": "code",
   "execution_count": 23,
   "metadata": {},
   "outputs": [],
   "source": [
    "def data_blob(data, encoder, name):\n",
    "    return {'data': torch.as_tensor(list(data)), 'info': {'model':encoder, 'name':name}}"
   ]
  },
  {
   "cell_type": "markdown",
   "metadata": {},
   "source": [
    "# lets use some nice data blobs that works nicely to our legacy code "
   ]
  },
  {
   "cell_type": "code",
   "execution_count": 71,
   "metadata": {},
   "outputs": [
    {
     "data": {
      "text/plain": [
       "0        i bought this album because i loved the title ...\n",
       "1        i was misled and thought i was buying the enti...\n",
       "2        i have introduced many of my ell , high school...\n",
       "3        anything you purchase in the left behind serie...\n",
       "4        i loved these movies , and i cant wiat for the...\n",
       "                               ...                        \n",
       "11909    the story here dose n't matter . the main char...\n",
       "11910    i liked everything about this product except i...\n",
       "11911    this flash is the perfect back-up for a studio...\n",
       "11912    i had boughten this as a gift which turned out...\n",
       "11913    the pedometer arrive held prisoner in a diffic...\n",
       "Name: text, Length: 11914, dtype: object"
      ]
     },
     "execution_count": 71,
     "metadata": {},
     "output_type": "execute_result"
    }
   ],
   "source": [
    "emb_amazon_corpus.text"
   ]
  },
  {
   "cell_type": "code",
   "execution_count": 72,
   "metadata": {},
   "outputs": [
    {
     "data": {
      "text/plain": [
       "Index(['product', 'sentiment', 'text', 'bert-base-uncased', 'roberta-base',\n",
       "       'xlm-roberta-base', 'clip'],\n",
       "      dtype='object')"
      ]
     },
     "execution_count": 72,
     "metadata": {},
     "output_type": "execute_result"
    }
   ],
   "source": [
    "emb_amazon_corpus.keys()"
   ]
  },
  {
   "cell_type": "code",
   "execution_count": 96,
   "metadata": {},
   "outputs": [
    {
     "data": {
      "text/plain": [
       "'health'"
      ]
     },
     "execution_count": 96,
     "metadata": {},
     "output_type": "execute_result"
    }
   ],
   "source": [
    "target = 'product'\n",
    "embedding = 'roberta-base'\n",
    "x_train, x_test, y_train, y_test = train_test_split(emb_amazon_corpus[embedding], emb_amazon_corpus[target], test_size=0.2, random_state=0)\n",
    "main_product = y_train.iloc[-1]\n",
    "train_product = x_train[y_train == main_product]\n",
    "test_product = x_test[y_test == main_product]\n",
    "\n",
    "train_blob = data_blob(x_train[y_train == main_product], embedding, f'train_{main_product}')\n",
    "reference_blob = data_blob(x_test[y_test == main_product], embedding, f'test_{main_product}')\n",
    "eval_blobs = [data_blob(emb_amazon_corpus[embedding][emb_amazon_corpus[target] == product], embedding, product) for product in y_test.unique() if product != main_product]\n",
    "main_product\n"
   ]
  },
  {
   "cell_type": "code",
   "execution_count": 97,
   "metadata": {},
   "outputs": [],
   "source": [
    "\n",
    "from sklearn.covariance import EmpiricalCovariance\n",
    "import numpy as np\n",
    "from numpy.linalg import norm, pinv\n",
    "from sklearn import metrics\n"
   ]
  },
  {
   "cell_type": "code",
   "execution_count": 98,
   "metadata": {},
   "outputs": [],
   "source": [
    "#region Helper\n",
    "def num_fp_at_recall(ind_conf, ood_conf, tpr):\n",
    "    num_ind = len(ind_conf)\n",
    "\n",
    "    if num_ind == 0 and len(ood_conf) == 0:\n",
    "        return 0, 0.\n",
    "    if num_ind == 0:\n",
    "        return 0, np.max(ood_conf) + 1\n",
    "\n",
    "    recall_num = int(np.floor(tpr * num_ind))\n",
    "    thresh = np.sort(ind_conf)[-recall_num]\n",
    "    num_fp = np.sum(ood_conf >= thresh)\n",
    "    return num_fp, thresh\n",
    "\n",
    "def fpr_recall(ind_conf, ood_conf, tpr):\n",
    "    num_fp, thresh = num_fp_at_recall(ind_conf, ood_conf, tpr)\n",
    "    num_ood = len(ood_conf)\n",
    "    fpr = num_fp / max(1, num_ood)\n",
    "    return fpr, thresh\n",
    "\n",
    "def auc(ind_conf, ood_conf):\n",
    "    conf = np.concatenate((ind_conf, ood_conf))\n",
    "    ind_indicator = np.concatenate((np.ones_like(ind_conf), np.zeros_like(ood_conf)))\n",
    "\n",
    "    fpr, tpr, _ = metrics.roc_curve(ind_indicator, conf)\n",
    "    precision_in, recall_in, _ = metrics.precision_recall_curve(\n",
    "        ind_indicator, conf)\n",
    "    precision_out, recall_out, _ = metrics.precision_recall_curve(\n",
    "        1 - ind_indicator, 1 - conf)\n",
    "\n",
    "    auroc = metrics.auc(fpr, tpr)\n",
    "    aupr_in = metrics.auc(recall_in, precision_in)\n",
    "    aupr_out = metrics.auc(recall_out, precision_out)\n",
    "\n",
    "    return auroc, aupr_in, aupr_out\n",
    "recall = 0.95"
   ]
  },
  {
   "cell_type": "code",
   "execution_count": 99,
   "metadata": {},
   "outputs": [],
   "source": [
    "feature_id_val= reference_blob['data']\n",
    "feature_id_train = train_blob['data']\n",
    "ood_names = [e['info']['name'] for e in eval_blobs]\n",
    "feature_oods = [e['data'] for e in eval_blobs]\n",
    "ood_names.append('val')\n",
    "\n",
    "feature_oods.append(feature_id_val)"
   ]
  },
  {
   "cell_type": "code",
   "execution_count": 100,
   "metadata": {},
   "outputs": [
    {
     "name": "stdout",
     "output_type": "stream",
     "text": [
      "\n",
      "Residual\n",
      "DIM=512\n",
      "computing principal space...\n",
      "Residual: books auroc 95.24%, fpr 24.35%\n",
      "Residual: software auroc 85.09%, fpr 59.79%\n",
      "Residual: camera auroc 73.45%, fpr 87.24%\n",
      "Residual: dvd auroc 96.36%, fpr 16.50%\n",
      "Residual: music auroc 96.53%, fpr 14.90%\n",
      "Residual: val auroc 50.00%, fpr 94.95%\n"
     ]
    }
   ],
   "source": [
    "method = 'Residual'\n",
    "print(f'\\n{method}')\n",
    "result = []\n",
    "DIM = 1000 if feature_id_val.shape[-1] >= 2048 else 512\n",
    "print(f'{DIM=}')\n",
    "\n",
    "print('computing principal space...')\n",
    "ec = EmpiricalCovariance(assume_centered=True)\n",
    "ec.fit(feature_id_train)\n",
    "eig_vals, eigen_vectors = np.linalg.eig(ec.covariance_)\n",
    "NS = np.ascontiguousarray((eigen_vectors.T[np.argsort(eig_vals * -1)[DIM:]]).T)\n",
    "\n",
    "score_id = -norm(np.matmul(feature_id_val, NS), axis=-1)\n",
    "\n",
    "for name, feature_ood in zip(ood_names, feature_oods):\n",
    "    score_ood = -norm(np.matmul(feature_ood, NS), axis=-1)\n",
    "    auc_ood = auc(score_id, score_ood)[0]\n",
    "    fpr_ood, _ = fpr_recall(score_id, score_ood, recall)\n",
    "    result.append(dict(method=method, oodset=name, auroc=auc_ood, fpr=fpr_ood))\n",
    "    print(f'{method}: {name} auroc {auc_ood:.2%}, fpr {fpr_ood:.2%}')\n",
    "df = pd.DataFrame(result)\n",
    "#dfs.append(df)\n",
    "#print(f'mean auroc {df.auroc.mean():.2%}, {df.fpr.mean():.2%}')"
   ]
  },
  {
   "cell_type": "code",
   "execution_count": 30,
   "metadata": {},
   "outputs": [],
   "source": [
    "pd.to_pickle(train_blob['data'], 'id_train.pkl')"
   ]
  },
  {
   "cell_type": "code",
   "execution_count": 31,
   "metadata": {},
   "outputs": [],
   "source": [
    "pd.to_pickle(reference_blob['data'], 'id_val.pkl')"
   ]
  },
  {
   "cell_type": "code",
   "execution_count": 28,
   "metadata": {},
   "outputs": [
    {
     "data": {
      "text/plain": [
       "{'data': tensor([[ 0.0073,  0.0222, -0.1336,  ...,  0.1972,  0.0458,  0.0464],\n",
       "         [-0.1797,  0.0526,  0.0081,  ...,  0.0126,  0.3151,  0.1681],\n",
       "         [ 0.0927,  0.0268, -0.1755,  ...,  0.1667, -0.0340,  0.0112],\n",
       "         ...,\n",
       "         [ 0.0725,  0.0527, -0.1606,  ...,  0.0878,  0.0277,  0.0581],\n",
       "         [ 0.0080,  0.0215, -0.1307,  ...,  0.1731,  0.1130,  0.0547],\n",
       "         [ 0.0516,  0.0390, -0.1594,  ...,  0.2069,  0.1076,  0.0196]]),\n",
       " 'info': {'model': 'clip', 'name': 'train_health'}}"
      ]
     },
     "execution_count": 28,
     "metadata": {},
     "output_type": "execute_result"
    }
   ],
   "source": [
    "train_blob"
   ]
  },
  {
   "cell_type": "code",
   "execution_count": 29,
   "metadata": {},
   "outputs": [
    {
     "data": {
      "text/plain": [
       "{'data': tensor([[ 0.0690, -0.0880, -0.2979,  ..., -0.8620,  0.1370,  0.1771],\n",
       "         [ 0.0524,  0.0853, -0.1128,  ...,  0.2299,  0.0823,  0.0058],\n",
       "         [ 0.1828,  0.0349, -0.1587,  ...,  0.2182,  0.1109, -0.0051],\n",
       "         ...,\n",
       "         [-0.4223, -0.5253, -0.0238,  ..., -0.7017,  0.2877,  0.0528],\n",
       "         [-0.2208, -0.1192,  0.0961,  ..., -1.2070, -0.0524, -0.1584],\n",
       "         [-0.2903, -0.4245,  0.1229,  ..., -0.7098,  0.0255, -0.3357]]),\n",
       " 'info': {'model': 'clip', 'name': 'test_health'}}"
      ]
     },
     "execution_count": 29,
     "metadata": {},
     "output_type": "execute_result"
    }
   ],
   "source": [
    "reference_blob"
   ]
  },
  {
   "cell_type": "code",
   "execution_count": 32,
   "metadata": {},
   "outputs": [
    {
     "data": {
      "text/plain": [
       "[{'data': tensor([[ 5.5821e-01, -2.8352e-01,  2.5844e-01,  ..., -1.1965e+00,\n",
       "            2.2696e-02,  1.7177e-02],\n",
       "          [ 2.3721e-01,  1.1065e-01, -1.3490e-01,  ...,  2.0741e-01,\n",
       "            9.8063e-02,  5.9998e-02],\n",
       "          [ 1.7198e-01, -4.8385e-02, -4.5569e-02,  ...,  3.4912e-02,\n",
       "           -3.6315e-01,  2.8112e-01],\n",
       "          ...,\n",
       "          [ 5.3814e-02, -9.7730e-04, -2.2367e-01,  ..., -8.7025e-01,\n",
       "            1.2330e-02, -1.2537e-01],\n",
       "          [ 6.4128e-02,  9.0621e-02, -8.6600e-02,  ...,  1.7201e-01,\n",
       "            3.3979e-02,  1.5440e-02],\n",
       "          [ 1.5040e-01,  2.3973e-02,  8.1518e-02,  ..., -1.1436e+00,\n",
       "           -1.8883e-01,  9.4971e-02]]),\n",
       "  'info': {'model': 'clip', 'name': 'books'}},\n",
       " {'data': tensor([[-5.4255e-02,  3.9441e-01, -1.3927e-01,  ..., -3.7086e-01,\n",
       "            5.2213e-01, -6.9130e-02],\n",
       "          [ 1.2296e-01,  8.2988e-02, -1.0633e-01,  ...,  1.9954e-01,\n",
       "            9.5430e-03,  6.4985e-02],\n",
       "          [ 4.6338e-02, -2.0997e-01,  1.6199e-01,  ..., -1.0442e-01,\n",
       "            3.3770e-01,  1.7428e-01],\n",
       "          ...,\n",
       "          [ 5.2431e-02,  1.5223e-01,  1.2500e-01,  ..., -5.1937e-01,\n",
       "            2.0072e-03,  1.2946e-02],\n",
       "          [-1.8331e-01,  2.7151e-02, -1.8797e-01,  ..., -1.0429e+00,\n",
       "           -9.2684e-02,  5.3035e-04],\n",
       "          [ 3.9165e-02,  8.6563e-02, -1.4998e-01,  ...,  2.0666e-01,\n",
       "            1.0474e-01,  1.9051e-02]]),\n",
       "  'info': {'model': 'clip', 'name': 'software'}},\n",
       " {'data': tensor([[ 0.0550,  0.0868, -0.0538,  ..., -0.0889,  0.2802,  0.1074],\n",
       "          [ 0.0128, -0.0763, -0.1611,  ..., -1.1531, -0.0814, -0.2108],\n",
       "          [ 0.6071,  0.1615, -0.6571,  ..., -0.6671,  0.1120, -0.1530],\n",
       "          ...,\n",
       "          [-0.5850,  0.2644, -0.4366,  ..., -0.0885,  0.2507, -0.1959],\n",
       "          [ 0.1678,  0.0192, -0.1571,  ...,  0.1133,  0.2110, -0.0147],\n",
       "          [-0.1854,  0.1423, -0.1389,  ..., -0.5283,  0.1143, -0.2643]]),\n",
       "  'info': {'model': 'clip', 'name': 'camera'}},\n",
       " {'data': tensor([[ 0.0283,  0.0398, -0.1073,  ...,  0.2316,  0.0575,  0.0313],\n",
       "          [ 0.0273, -0.0124, -0.0898,  ...,  0.2157,  0.0524,  0.0821],\n",
       "          [ 0.0139,  0.1632,  0.0306,  ..., -0.0300,  0.4201,  0.1370],\n",
       "          ...,\n",
       "          [ 0.1477, -0.1053, -0.2302,  ...,  0.2583, -0.1231,  0.3038],\n",
       "          [-0.1727,  0.3851, -0.3298,  ..., -0.4394, -0.1305, -0.1712],\n",
       "          [ 0.1142, -0.0176,  0.0738,  ..., -0.4991, -0.1997, -0.2154]]),\n",
       "  'info': {'model': 'clip', 'name': 'dvd'}},\n",
       " {'data': tensor([[-0.1378,  0.0961, -0.0992,  ..., -0.9185, -0.1468, -0.3981],\n",
       "          [ 0.0384,  0.0693, -0.0945,  ...,  0.2242,  0.0633,  0.0236],\n",
       "          [ 0.0751,  0.0789, -0.1348,  ...,  0.2578,  0.0173, -0.0019],\n",
       "          ...,\n",
       "          [ 0.3952,  0.3221,  0.0460,  ..., -0.6070, -0.2415, -0.6238],\n",
       "          [ 0.1094, -0.0021, -0.1594,  ...,  0.2103,  0.0999,  0.0714],\n",
       "          [ 0.0859,  0.2208,  0.0851,  ...,  0.2919,  0.1411,  0.0702]]),\n",
       "  'info': {'model': 'clip', 'name': 'music'}}]"
      ]
     },
     "execution_count": 32,
     "metadata": {},
     "output_type": "execute_result"
    }
   ],
   "source": [
    "eval_blobs[0]"
   ]
  },
  {
   "cell_type": "code",
   "execution_count": 27,
   "metadata": {},
   "outputs": [],
   "source": [
    "device = 'cuda:0' \n",
    "num_workers = 0\n",
    "\n",
    "feat_dim=train_blob['data'].shape[-1]\n",
    "bottleneck_channels=256\n",
    "dropout=0.9\n",
    "lr= 0.0005\n",
    "num_res_blocks=3\n",
    "sigma = 25\n",
    "time_embed_dim=256\n",
    "n_epochs = 5000\n",
    "batch_size = 1024\n",
    "marginal_prob_std_fn = functools.partial(utils.marginal_prob_std, sigma=sigma, device=device)\n",
    "diffusion_coeff_fn = functools.partial(utils.diffusion_coeff, sigma=sigma, device=device)\n"
   ]
  },
  {
   "cell_type": "code",
   "execution_count": 313,
   "metadata": {},
   "outputs": [],
   "source": [
    "score_model = SimpleMLP(marginal_prob_std=marginal_prob_std_fn,\n",
    "        in_channels=feat_dim,\n",
    "        time_embed_dim=time_embed_dim,\n",
    "        model_channels=feat_dim,\n",
    "        bottleneck_channels=bottleneck_channels,\n",
    "        out_channels=feat_dim,\n",
    "        num_res_blocks=num_res_blocks, \n",
    "        dropout=dropout)\n",
    "score_model = score_model.to(device)\n",
    "score_model.train()\n",
    "optimizer = torch.optim.Adam(score_model.parameters(), lr=lr)\n",
    "loss = functools.partial(train.loss_fn, marginal_prob_std=marginal_prob_std_fn)\n",
    "ode_likelihood = functools.partial(utils.ode_likelihood, \n",
    "                                        marginal_prob_std=marginal_prob_std_fn,\n",
    "                                        diffusion_coeff=diffusion_coeff_fn)"
   ]
  },
  {
   "cell_type": "code",
   "execution_count": 314,
   "metadata": {
    "cellView": "form",
    "colab": {
     "base_uri": "https://localhost:8080/",
     "height": 120,
     "referenced_widgets": [
      "b1308d495dd643b48378ff372c8f9c3a",
      "c14794e9abf641a9884a0dd618e14d1e",
      "6f6b56e6662149caad3e30815c25e374",
      "6702c584e95347ae8d425257b8ec540e",
      "cdf00304d2da46a1bfc2e86542882db4",
      "d909e838a6894af4abe248ea52bbeb93",
      "61a88f148b8e48adb16bccd7db3eeaf8",
      "6fd034cfc2b74649ae887af76e13cbe5",
      "c4de8fe7e05142a78560e13c2b1ca385",
      "81a3a9c9a6b742fa9f8f19f71fedd73a",
      "64b0fddd0f2544468c028b6da780515c"
     ]
    },
    "id": "8PPsLx4dGCGa",
    "outputId": "3033feda-6b41-4a98-8408-14ee8e47bb01"
   },
   "outputs": [
    {
     "name": "stdout",
     "output_type": "stream",
     "text": [
      "Training for 5000 epochs...\n"
     ]
    },
    {
     "name": "stderr",
     "output_type": "stream",
     "text": [
      "  0%|          | 0/5000 [00:00<?, ?it/s]Average Loss: 27.953835: 100%|██████████| 5000/5000 [01:12<00:00, 69.09it/s]\n"
     ]
    }
   ],
   "source": [
    "train_loss = train.train(train_blob['data'], score_model, loss, optimizer, n_epochs, batch_size, device, num_workers)"
   ]
  },
  {
   "cell_type": "markdown",
   "metadata": {
    "id": "yC49nk6ZXqOS"
   },
   "source": [
    "## Likelihood Computation\n",
    "\n",
    "A by-product of the probability flow ODE formulation is likelihood computation. Suppose we have a differentiable one-to-one mapping $\\mathbf{h}$ that transforms a data sample $\\mathbf{x} \\sim p_0$ to a prior distribution $\\mathbf{h}(\\mathbf{x}) \\sim p_T$. We can compute the likelihood of $p_0(\\mathbf{x})$ via the following [change-of-variable formula](https://en.wikipedia.org/wiki/Probability_density_function#Function_of_random_variables_and_change_of_variables_in_the_probability_density_function)\n",
    "\\begin{align*}\n",
    "p_0(\\mathbf{x}) = p_T(\\mathbf{h}(\\mathbf{x})) |\\operatorname{det}(J_\\mathbf{h}(\\mathbf{x}))|,\n",
    "\\end{align*}\n",
    "where $J_\\mathbf{h}(\\mathbf{x})$ represents the Jacobian of the mapping $\\mathbf{h}$, and we assume it is efficient to evaluate the likelihood of the prior distribution $p_T$.\n",
    "\n",
    "The trajectories of an ODE also define a one-to-one mapping from $\\mathbf{x}(0)$ to $\\mathbf{x}(T)$. For ODEs of the form\n",
    "\\begin{align*}\n",
    "d \\mathbf{x} = \\mathbf{f}(\\mathbf{x}, t) dt,\n",
    "\\end{align*}\n",
    "there exists an [instantaneous change-of-variable formula](https://arxiv.org/abs/1806.07366) that connects the probability of $p_0(\\mathbf{x})$ and $p_1(\\mathbf{x})$, given by\n",
    "\\begin{align*}\n",
    "p_0 (\\mathbf{x}(0)) = e^{\\int_0^1 \\operatorname{div} \\mathbf{f}(\\mathbf{x}(t), t) d t} p_1(\\mathbf{x}(1)),\n",
    "\\end{align*}\n",
    "where $\\operatorname{div}$ denotes the divergence function (trace of Jacobian).\n",
    "\n",
    "In practice, this divergence function can be hard to evaluate for general vector-valued function $\\mathbf{f}$, but we can use an unbiased estimator, named [Skilling-Hutchinson estimator](http://blog.shakirm.com/2015/09/machine-learning-trick-of-the-day-3-hutchinsons-trick/), to approximate the trace. Let $\\boldsymbol \\epsilon \\sim \\mathcal{N}(\\mathbf{0}, \\mathbf{I})$. The Skilling-Hutchinson estimator is based on the fact that\n",
    "\\begin{align*}\n",
    "\\operatorname{div} \\mathbf{f}(\\mathbf{x}) = \\mathbb{E}_{\\boldsymbol\\epsilon \\sim \\mathcal{N}(\\mathbf{0}, \\mathbf{I})}[\\boldsymbol\\epsilon^\\intercal  J_\\mathbf{f}(\\mathbf{x}) \\boldsymbol\\epsilon].\n",
    "\\end{align*}\n",
    "Therefore, we can simply sample a random vector $\\boldsymbol \\epsilon \\sim \\mathcal{N}(\\mathbf{0}, \\mathbf{I})$, and then use $\\boldsymbol \\epsilon^\\intercal J_\\mathbf{f}(\\mathbf{x}) \\boldsymbol \\epsilon$ to estimate the divergence of $\\mathbf{f}(\\mathbf{x})$. This estimator only requires computing the Jacobian-vector product $J_\\mathbf{f}(\\mathbf{x})\\boldsymbol \\epsilon$, which is typically efficient.\n",
    "\n",
    "As a result, for our probability flow ODE, we can compute the (log) data likelihood with the following\n",
    "\\begin{align*}\n",
    "\\log p_0(\\mathbf{x}(0)) = \\log p_1(\\mathbf{x}(1)) -\\frac{1}{2}\\int_0^1 \\frac{d[\\sigma^2(t)]}{dt} \\operatorname{div} s_\\theta(\\mathbf{x}(t), t) dt.\n",
    "\\end{align*}\n",
    "With the Skilling-Hutchinson estimator, we can compute the divergence via\n",
    "\\begin{align*}\n",
    "\\operatorname{div} s_\\theta(\\mathbf{x}(t), t) = \\mathbb{E}_{\\boldsymbol\\epsilon \\sim \\mathcal{N}(\\mathbf{0}, \\mathbf{I})}[\\boldsymbol\\epsilon^\\intercal  J_{s_\\theta}(\\mathbf{x}(t), t) \\boldsymbol\\epsilon].\n",
    "\\end{align*}\n",
    "Afterwards, we can compute the integral with numerical integrators. This gives us an unbiased estimate to the true data likelihood, and we can make it more and more accurate when we run it multiple times and take the average. The numerical integrator requires $\\mathbf{x}(t)$ as a function of $t$, which can be obtained by the probability flow ODE sampler."
   ]
  },
  {
   "cell_type": "code",
   "execution_count": 315,
   "metadata": {},
   "outputs": [
    {
     "name": "stdout",
     "output_type": "stream",
     "text": [
      "Running eval. In-distribution data\n"
     ]
    },
    {
     "name": "stderr",
     "output_type": "stream",
     "text": [
      "Average bits/dim: 6.407793: 100%|██████████| 2/2 [00:00<00:00,  2.18it/s]\n"
     ]
    },
    {
     "name": "stdout",
     "output_type": "stream",
     "text": [
      "Running eval. Reference data\n"
     ]
    },
    {
     "name": "stderr",
     "output_type": "stream",
     "text": [
      "Average bits/dim: 6.526476: 100%|██████████| 1/1 [00:00<00:00,  2.27it/s]\n"
     ]
    },
    {
     "name": "stdout",
     "output_type": "stream",
     "text": [
      "AUC: 0.4625, FPR: 0.9785\n",
      "Running eval. Out-of-distribution data 1/5\n"
     ]
    },
    {
     "name": "stderr",
     "output_type": "stream",
     "text": [
      "Average bits/dim: 7.468019: 100%|██████████| 2/2 [00:00<00:00,  2.31it/s]\n"
     ]
    },
    {
     "name": "stdout",
     "output_type": "stream",
     "text": [
      "AUC: 0.7517, FPR: 0.6700\n",
      "Running eval. Out-of-distribution data 2/5\n"
     ]
    },
    {
     "name": "stderr",
     "output_type": "stream",
     "text": [
      "Average bits/dim: 7.203692: 100%|██████████| 2/2 [00:00<00:00,  2.25it/s]\n"
     ]
    },
    {
     "name": "stdout",
     "output_type": "stream",
     "text": [
      "AUC: 0.6827, FPR: 0.7347\n",
      "Running eval. Out-of-distribution data 3/5\n"
     ]
    },
    {
     "name": "stderr",
     "output_type": "stream",
     "text": [
      "Average bits/dim: 7.091236: 100%|██████████| 2/2 [00:00<00:00,  2.25it/s]\n"
     ]
    },
    {
     "name": "stdout",
     "output_type": "stream",
     "text": [
      "AUC: 0.6516, FPR: 0.8014\n",
      "Running eval. Out-of-distribution data 4/5\n"
     ]
    },
    {
     "name": "stderr",
     "output_type": "stream",
     "text": [
      "Average bits/dim: 7.476202: 100%|██████████| 2/2 [00:00<00:00,  2.25it/s]\n"
     ]
    },
    {
     "name": "stdout",
     "output_type": "stream",
     "text": [
      "AUC: 0.7535, FPR: 0.6100\n",
      "Running eval. Out-of-distribution data 5/5\n"
     ]
    },
    {
     "name": "stderr",
     "output_type": "stream",
     "text": [
      "Average bits/dim: 7.413833: 100%|██████████| 2/2 [00:00<00:00,  2.22it/s]"
     ]
    },
    {
     "name": "stdout",
     "output_type": "stream",
     "text": [
      "AUC: 0.7380, FPR: 0.6300\n"
     ]
    },
    {
     "name": "stderr",
     "output_type": "stream",
     "text": [
      "\n"
     ]
    }
   ],
   "source": [
    "eval_data = train.eval(\n",
    "    train_blob['data'], \n",
    "    reference_blob['data'],\n",
    "    [e['data'] for e in eval_blobs], \n",
    "    score_model, ode_likelihood, batch_size, device, num_workers)\n",
    "eval_data['train_loss'] = train_loss"
   ]
  },
  {
   "cell_type": "code",
   "execution_count": 316,
   "metadata": {},
   "outputs": [
    {
     "name": "stdout",
     "output_type": "stream",
     "text": [
      "Generating plots...\n"
     ]
    },
    {
     "data": {
      "image/png": "[encoded data removed]",
      "text/plain": [
       "<Figure size 1500x1000 with 4 Axes>"
      ]
     },
     "metadata": {},
     "output_type": "display_data"
    }
   ],
   "source": [
    "train.plot(eval_data, \n",
    "           [e['info']['name'] for e in eval_blobs], \n",
    "           train_blob['info']['model'], \n",
    "           train_blob['info']['name'], \n",
    "           config={\n",
    "                'sigma':sigma,\n",
    "                'embedding':embedding,\n",
    "                'bottleneck_channels':bottleneck_channels,\n",
    "                'num_res_blocks':num_res_blocks,\n",
    "                'dropout':dropout,\n",
    "                'time_embed_dim':time_embed_dim,\n",
    "                'feat_dim': feat_dim,\n",
    "                'n_epochs':n_epochs,\n",
    "                'batch_size':batch_size,\n",
    "                'lr':lr,\n",
    "              },\n",
    "              main_label=main_product\n",
    "           )"
   ]
  },
  {
   "cell_type": "markdown",
   "metadata": {
    "id": "mHsx75Yft-6u"
   },
   "source": [
    "\n",
    "\n",
    "* Yang Song, Jascha Sohl-Dickstein, Diederik P. Kingma, Abhishek Kumar, Stefano Ermon, and Ben Poole. \"[Score-Based Generative Modeling through Stochastic Differential Equations.](https://arxiv.org/pdf/2011.13456.pdf)\" International Conference on Learning Representations, 2021.\n",
    "* Jonathan Ho, Ajay Jain, and Pieter Abbeel. \"[Denoising diffusion probabilistic models.](https://arxiv.org/pdf/2006.11239.pdf)\" Advances in Neural Information Processing Systems. 2020.\n",
    "*    Yang Song, and Stefano Ermon. \"[Improved Techniques for Training Score-Based Generative Models.](https://arxiv.org/pdf/2006.09011.pdf)\" Advances in Neural Information Processing Systems. 2020.\n",
    "*   Yang Song, and Stefano Ermon. \"[Generative modeling by estimating gradients of the data distribution.](https://arxiv.org/pdf/1907.05600.pdf)\" Advances in Neural Information Processing Systems. 2019.\n",
    "\n"
   ]
  }
 ],
 "metadata": {
  "accelerator": "GPU",
  "colab": {
   "provenance": [],
   "toc_visible": true
  },
  "kernelspec": {
   "display_name": "Python 3 (ipykernel)",
   "language": "python",
   "name": "python3"
  },
  "language_info": {
   "codemirror_mode": {
    "name": "ipython",
    "version": 3
   },
   "file_extension": ".py",
   "mimetype": "text/x-python",
   "name": "python",
   "nbconvert_exporter": "python",
   "pygments_lexer": "ipython3",
   "version": "3.11.4"
  },
  "widgets": {
   "application/vnd.jupyter.widget-state+json": {
    "1f4487629d4646459e9923bea2461cf3": {
     "model_module": "@jupyter-widgets/controls",
     "model_module_version": "1.4.0",
     "model_name": "HTMLModel",
     "state": {
      "_dom_classes": [],
      "_model_module": "@jupyter-widgets/controls",
      "_model_module_version": "1.4.0",
      "_model_name": "HTMLModel",
      "_view_count": null,
      "_view_module": "@jupyter-widgets/controls",
      "_view_module_version": "1.4.0",
      "_view_name": "HTMLView",
      "description": "",
      "description_tooltip": null,
      "layout": "IPY_MODEL_4c463140b56245d98996048fd4c78b22",
      "placeholder": "​",
      "style": "IPY_MODEL_42bd42a903de4d3f8c7f741fc99695d5",
      "value": "Average bits/dim: 4.111211:   1%"
     }
    },
    "32c4f6132fca4c6797b317db5bd35938": {
     "model_module": "@jupyter-widgets/base",
     "model_module_version": "1.1.0",
     "model_name": "LayoutModel",
     "state": {
      "_model_module": "@jupyter-widgets/base",
      "_model_module_version": "1.1.0",
      "_model_name": "LayoutModel",
      "_view_count": null,
      "_view_module": "@jupyter-widgets/base",
      "_view_module_version": "1.1.0",
      "_view_name": "LayoutView",
      "align_content": null,
      "align_items": null,
      "align_self": null,
      "border": null,
      "bottom": null,
      "display": null,
      "flex": null,
      "flex_flow": null,
      "grid_area": null,
      "grid_auto_columns": null,
      "grid_auto_flow": null,
      "grid_auto_rows": null,
      "grid_column": null,
      "grid_gap": null,
      "grid_row": null,
      "grid_template_areas": null,
      "grid_template_columns": null,
      "grid_template_rows": null,
      "height": null,
      "justify_content": null,
      "left": null,
      "margin": null,
      "max_height": null,
      "max_width": null,
      "min_height": null,
      "min_width": null,
      "order": null,
      "overflow": null,
      "overflow_x": null,
      "overflow_y": null,
      "padding": null,
      "right": null,
      "top": null,
      "visibility": null,
      "width": null
     }
    },
    "42bd42a903de4d3f8c7f741fc99695d5": {
     "model_module": "@jupyter-widgets/controls",
     "model_module_version": "1.4.0",
     "model_name": "DescriptionStyleModel",
     "state": {
      "_model_module": "@jupyter-widgets/controls",
      "_model_module_version": "1.4.0",
      "_model_name": "DescriptionStyleModel",
      "_view_count": null,
      "_view_module": "@jupyter-widgets/base",
      "_view_module_version": "1.1.0",
      "_view_name": "StyleView",
      "description_width": ""
     }
    },
    "488efe83bb0c4675a8f7f6c88b2796d6": {
     "model_module": "@jupyter-widgets/base",
     "model_module_version": "1.1.0",
     "model_name": "LayoutModel",
     "state": {
      "_model_module": "@jupyter-widgets/base",
      "_model_module_version": "1.1.0",
      "_model_name": "LayoutModel",
      "_view_count": null,
      "_view_module": "@jupyter-widgets/base",
      "_view_module_version": "1.1.0",
      "_view_name": "LayoutView",
      "align_content": null,
      "align_items": null,
      "align_self": null,
      "border": null,
      "bottom": null,
      "display": null,
      "flex": null,
      "flex_flow": null,
      "grid_area": null,
      "grid_auto_columns": null,
      "grid_auto_flow": null,
      "grid_auto_rows": null,
      "grid_column": null,
      "grid_gap": null,
      "grid_row": null,
      "grid_template_areas": null,
      "grid_template_columns": null,
      "grid_template_rows": null,
      "height": null,
      "justify_content": null,
      "left": null,
      "margin": null,
      "max_height": null,
      "max_width": null,
      "min_height": null,
      "min_width": null,
      "order": null,
      "overflow": null,
      "overflow_x": null,
      "overflow_y": null,
      "padding": null,
      "right": null,
      "top": null,
      "visibility": null,
      "width": null
     }
    },
    "4c463140b56245d98996048fd4c78b22": {
     "model_module": "@jupyter-widgets/base",
     "model_module_version": "1.1.0",
     "model_name": "LayoutModel",
     "state": {
      "_model_module": "@jupyter-widgets/base",
      "_model_module_version": "1.1.0",
      "_model_name": "LayoutModel",
      "_view_count": null,
      "_view_module": "@jupyter-widgets/base",
      "_view_module_version": "1.1.0",
      "_view_name": "LayoutView",
      "align_content": null,
      "align_items": null,
      "align_self": null,
      "border": null,
      "bottom": null,
      "display": null,
      "flex": null,
      "flex_flow": null,
      "grid_area": null,
      "grid_auto_columns": null,
      "grid_auto_flow": null,
      "grid_auto_rows": null,
      "grid_column": null,
      "grid_gap": null,
      "grid_row": null,
      "grid_template_areas": null,
      "grid_template_columns": null,
      "grid_template_rows": null,
      "height": null,
      "justify_content": null,
      "left": null,
      "margin": null,
      "max_height": null,
      "max_width": null,
      "min_height": null,
      "min_width": null,
      "order": null,
      "overflow": null,
      "overflow_x": null,
      "overflow_y": null,
      "padding": null,
      "right": null,
      "top": null,
      "visibility": null,
      "width": null
     }
    },
    "61a88f148b8e48adb16bccd7db3eeaf8": {
     "model_module": "@jupyter-widgets/controls",
     "model_module_version": "1.4.0",
     "model_name": "DescriptionStyleModel",
     "state": {
      "_model_module": "@jupyter-widgets/controls",
      "_model_module_version": "1.4.0",
      "_model_name": "DescriptionStyleModel",
      "_view_count": null,
      "_view_module": "@jupyter-widgets/base",
      "_view_module_version": "1.1.0",
      "_view_name": "StyleView",
      "description_width": ""
     }
    },
    "64b0fddd0f2544468c028b6da780515c": {
     "model_module": "@jupyter-widgets/controls",
     "model_module_version": "1.4.0",
     "model_name": "DescriptionStyleModel",
     "state": {
      "_model_module": "@jupyter-widgets/controls",
      "_model_module_version": "1.4.0",
      "_model_name": "DescriptionStyleModel",
      "_view_count": null,
      "_view_module": "@jupyter-widgets/base",
      "_view_module_version": "1.1.0",
      "_view_name": "StyleView",
      "description_width": ""
     }
    },
    "6702c584e95347ae8d425257b8ec540e": {
     "model_module": "@jupyter-widgets/controls",
     "model_module_version": "1.4.0",
     "model_name": "HTMLModel",
     "state": {
      "_dom_classes": [],
      "_model_module": "@jupyter-widgets/controls",
      "_model_module_version": "1.4.0",
      "_model_name": "HTMLModel",
      "_view_count": null,
      "_view_module": "@jupyter-widgets/controls",
      "_view_module_version": "1.4.0",
      "_view_name": "HTMLView",
      "description": "",
      "description_tooltip": null,
      "layout": "IPY_MODEL_81a3a9c9a6b742fa9f8f19f71fedd73a",
      "placeholder": "​",
      "style": "IPY_MODEL_64b0fddd0f2544468c028b6da780515c",
      "value": " 50/50 [20:59&lt;00:00, 25.18s/it]"
     }
    },
    "6f6b56e6662149caad3e30815c25e374": {
     "model_module": "@jupyter-widgets/controls",
     "model_module_version": "1.4.0",
     "model_name": "FloatProgressModel",
     "state": {
      "_dom_classes": [],
      "_model_module": "@jupyter-widgets/controls",
      "_model_module_version": "1.4.0",
      "_model_name": "FloatProgressModel",
      "_view_count": null,
      "_view_module": "@jupyter-widgets/controls",
      "_view_module_version": "1.4.0",
      "_view_name": "ProgressView",
      "bar_style": "success",
      "description": "",
      "description_tooltip": null,
      "layout": "IPY_MODEL_6fd034cfc2b74649ae887af76e13cbe5",
      "max": 50,
      "min": 0,
      "orientation": "horizontal",
      "style": "IPY_MODEL_c4de8fe7e05142a78560e13c2b1ca385",
      "value": 50
     }
    },
    "6fd034cfc2b74649ae887af76e13cbe5": {
     "model_module": "@jupyter-widgets/base",
     "model_module_version": "1.1.0",
     "model_name": "LayoutModel",
     "state": {
      "_model_module": "@jupyter-widgets/base",
      "_model_module_version": "1.1.0",
      "_model_name": "LayoutModel",
      "_view_count": null,
      "_view_module": "@jupyter-widgets/base",
      "_view_module_version": "1.1.0",
      "_view_name": "LayoutView",
      "align_content": null,
      "align_items": null,
      "align_self": null,
      "border": null,
      "bottom": null,
      "display": null,
      "flex": null,
      "flex_flow": null,
      "grid_area": null,
      "grid_auto_columns": null,
      "grid_auto_flow": null,
      "grid_auto_rows": null,
      "grid_column": null,
      "grid_gap": null,
      "grid_row": null,
      "grid_template_areas": null,
      "grid_template_columns": null,
      "grid_template_rows": null,
      "height": null,
      "justify_content": null,
      "left": null,
      "margin": null,
      "max_height": null,
      "max_width": null,
      "min_height": null,
      "min_width": null,
      "order": null,
      "overflow": null,
      "overflow_x": null,
      "overflow_y": null,
      "padding": null,
      "right": null,
      "top": null,
      "visibility": null,
      "width": null
     }
    },
    "7d060cf0423f48d09b5ad434e8254ec2": {
     "model_module": "@jupyter-widgets/controls",
     "model_module_version": "1.4.0",
     "model_name": "DescriptionStyleModel",
     "state": {
      "_model_module": "@jupyter-widgets/controls",
      "_model_module_version": "1.4.0",
      "_model_name": "DescriptionStyleModel",
      "_view_count": null,
      "_view_module": "@jupyter-widgets/base",
      "_view_module_version": "1.1.0",
      "_view_name": "StyleView",
      "description_width": ""
     }
    },
    "81a3a9c9a6b742fa9f8f19f71fedd73a": {
     "model_module": "@jupyter-widgets/base",
     "model_module_version": "1.1.0",
     "model_name": "LayoutModel",
     "state": {
      "_model_module": "@jupyter-widgets/base",
      "_model_module_version": "1.1.0",
      "_model_name": "LayoutModel",
      "_view_count": null,
      "_view_module": "@jupyter-widgets/base",
      "_view_module_version": "1.1.0",
      "_view_name": "LayoutView",
      "align_content": null,
      "align_items": null,
      "align_self": null,
      "border": null,
      "bottom": null,
      "display": null,
      "flex": null,
      "flex_flow": null,
      "grid_area": null,
      "grid_auto_columns": null,
      "grid_auto_flow": null,
      "grid_auto_rows": null,
      "grid_column": null,
      "grid_gap": null,
      "grid_row": null,
      "grid_template_areas": null,
      "grid_template_columns": null,
      "grid_template_rows": null,
      "height": null,
      "justify_content": null,
      "left": null,
      "margin": null,
      "max_height": null,
      "max_width": null,
      "min_height": null,
      "min_width": null,
      "order": null,
      "overflow": null,
      "overflow_x": null,
      "overflow_y": null,
      "padding": null,
      "right": null,
      "top": null,
      "visibility": null,
      "width": null
     }
    },
    "9fe9af58fc544fce975120a09e8cc329": {
     "model_module": "@jupyter-widgets/controls",
     "model_module_version": "1.4.0",
     "model_name": "ProgressStyleModel",
     "state": {
      "_model_module": "@jupyter-widgets/controls",
      "_model_module_version": "1.4.0",
      "_model_name": "ProgressStyleModel",
      "_view_count": null,
      "_view_module": "@jupyter-widgets/base",
      "_view_module_version": "1.1.0",
      "_view_name": "StyleView",
      "bar_color": null,
      "description_width": ""
     }
    },
    "b1308d495dd643b48378ff372c8f9c3a": {
     "model_module": "@jupyter-widgets/controls",
     "model_module_version": "1.4.0",
     "model_name": "HBoxModel",
     "state": {
      "_dom_classes": [],
      "_model_module": "@jupyter-widgets/controls",
      "_model_module_version": "1.4.0",
      "_model_name": "HBoxModel",
      "_view_count": null,
      "_view_module": "@jupyter-widgets/controls",
      "_view_module_version": "1.4.0",
      "_view_name": "HBoxView",
      "box_style": "",
      "children": [
       "IPY_MODEL_c14794e9abf641a9884a0dd618e14d1e",
       "IPY_MODEL_6f6b56e6662149caad3e30815c25e374",
       "IPY_MODEL_6702c584e95347ae8d425257b8ec540e"
      ],
      "layout": "IPY_MODEL_cdf00304d2da46a1bfc2e86542882db4"
     }
    },
    "b41078ed64a24f68a69f821fc32791ad": {
     "model_module": "@jupyter-widgets/base",
     "model_module_version": "1.1.0",
     "model_name": "LayoutModel",
     "state": {
      "_model_module": "@jupyter-widgets/base",
      "_model_module_version": "1.1.0",
      "_model_name": "LayoutModel",
      "_view_count": null,
      "_view_module": "@jupyter-widgets/base",
      "_view_module_version": "1.1.0",
      "_view_name": "LayoutView",
      "align_content": null,
      "align_items": null,
      "align_self": null,
      "border": null,
      "bottom": null,
      "display": null,
      "flex": null,
      "flex_flow": null,
      "grid_area": null,
      "grid_auto_columns": null,
      "grid_auto_flow": null,
      "grid_auto_rows": null,
      "grid_column": null,
      "grid_gap": null,
      "grid_row": null,
      "grid_template_areas": null,
      "grid_template_columns": null,
      "grid_template_rows": null,
      "height": null,
      "justify_content": null,
      "left": null,
      "margin": null,
      "max_height": null,
      "max_width": null,
      "min_height": null,
      "min_width": null,
      "order": null,
      "overflow": null,
      "overflow_x": null,
      "overflow_y": null,
      "padding": null,
      "right": null,
      "top": null,
      "visibility": null,
      "width": null
     }
    },
    "c14794e9abf641a9884a0dd618e14d1e": {
     "model_module": "@jupyter-widgets/controls",
     "model_module_version": "1.4.0",
     "model_name": "HTMLModel",
     "state": {
      "_dom_classes": [],
      "_model_module": "@jupyter-widgets/controls",
      "_model_module_version": "1.4.0",
      "_model_name": "HTMLModel",
      "_view_count": null,
      "_view_module": "@jupyter-widgets/controls",
      "_view_module_version": "1.4.0",
      "_view_name": "HTMLView",
      "description": "",
      "description_tooltip": null,
      "layout": "IPY_MODEL_d909e838a6894af4abe248ea52bbeb93",
      "placeholder": "​",
      "style": "IPY_MODEL_61a88f148b8e48adb16bccd7db3eeaf8",
      "value": "Average Loss: 17.045697: 100%"
     }
    },
    "c4de8fe7e05142a78560e13c2b1ca385": {
     "model_module": "@jupyter-widgets/controls",
     "model_module_version": "1.4.0",
     "model_name": "ProgressStyleModel",
     "state": {
      "_model_module": "@jupyter-widgets/controls",
      "_model_module_version": "1.4.0",
      "_model_name": "ProgressStyleModel",
      "_view_count": null,
      "_view_module": "@jupyter-widgets/base",
      "_view_module_version": "1.1.0",
      "_view_name": "StyleView",
      "bar_color": null,
      "description_width": ""
     }
    },
    "cdf00304d2da46a1bfc2e86542882db4": {
     "model_module": "@jupyter-widgets/base",
     "model_module_version": "1.1.0",
     "model_name": "LayoutModel",
     "state": {
      "_model_module": "@jupyter-widgets/base",
      "_model_module_version": "1.1.0",
      "_model_name": "LayoutModel",
      "_view_count": null,
      "_view_module": "@jupyter-widgets/base",
      "_view_module_version": "1.1.0",
      "_view_name": "LayoutView",
      "align_content": null,
      "align_items": null,
      "align_self": null,
      "border": null,
      "bottom": null,
      "display": null,
      "flex": null,
      "flex_flow": null,
      "grid_area": null,
      "grid_auto_columns": null,
      "grid_auto_flow": null,
      "grid_auto_rows": null,
      "grid_column": null,
      "grid_gap": null,
      "grid_row": null,
      "grid_template_areas": null,
      "grid_template_columns": null,
      "grid_template_rows": null,
      "height": null,
      "justify_content": null,
      "left": null,
      "margin": null,
      "max_height": null,
      "max_width": null,
      "min_height": null,
      "min_width": null,
      "order": null,
      "overflow": null,
      "overflow_x": null,
      "overflow_y": null,
      "padding": null,
      "right": null,
      "top": null,
      "visibility": null,
      "width": null
     }
    },
    "d1b99c321d8b4256bc9c4267fbafa224": {
     "model_module": "@jupyter-widgets/controls",
     "model_module_version": "1.4.0",
     "model_name": "FloatProgressModel",
     "state": {
      "_dom_classes": [],
      "_model_module": "@jupyter-widgets/controls",
      "_model_module_version": "1.4.0",
      "_model_name": "FloatProgressModel",
      "_view_count": null,
      "_view_module": "@jupyter-widgets/controls",
      "_view_module_version": "1.4.0",
      "_view_name": "ProgressView",
      "bar_style": "danger",
      "description": "",
      "description_tooltip": null,
      "layout": "IPY_MODEL_32c4f6132fca4c6797b317db5bd35938",
      "max": 313,
      "min": 0,
      "orientation": "horizontal",
      "style": "IPY_MODEL_9fe9af58fc544fce975120a09e8cc329",
      "value": 2
     }
    },
    "d909e838a6894af4abe248ea52bbeb93": {
     "model_module": "@jupyter-widgets/base",
     "model_module_version": "1.1.0",
     "model_name": "LayoutModel",
     "state": {
      "_model_module": "@jupyter-widgets/base",
      "_model_module_version": "1.1.0",
      "_model_name": "LayoutModel",
      "_view_count": null,
      "_view_module": "@jupyter-widgets/base",
      "_view_module_version": "1.1.0",
      "_view_name": "LayoutView",
      "align_content": null,
      "align_items": null,
      "align_self": null,
      "border": null,
      "bottom": null,
      "display": null,
      "flex": null,
      "flex_flow": null,
      "grid_area": null,
      "grid_auto_columns": null,
      "grid_auto_flow": null,
      "grid_auto_rows": null,
      "grid_column": null,
      "grid_gap": null,
      "grid_row": null,
      "grid_template_areas": null,
      "grid_template_columns": null,
      "grid_template_rows": null,
      "height": null,
      "justify_content": null,
      "left": null,
      "margin": null,
      "max_height": null,
      "max_width": null,
      "min_height": null,
      "min_width": null,
      "order": null,
      "overflow": null,
      "overflow_x": null,
      "overflow_y": null,
      "padding": null,
      "right": null,
      "top": null,
      "visibility": null,
      "width": null
     }
    },
    "db075f0871564f5da3119833dcffbf17": {
     "model_module": "@jupyter-widgets/controls",
     "model_module_version": "1.4.0",
     "model_name": "HBoxModel",
     "state": {
      "_dom_classes": [],
      "_model_module": "@jupyter-widgets/controls",
      "_model_module_version": "1.4.0",
      "_model_name": "HBoxModel",
      "_view_count": null,
      "_view_module": "@jupyter-widgets/controls",
      "_view_module_version": "1.4.0",
      "_view_name": "HBoxView",
      "box_style": "",
      "children": [
       "IPY_MODEL_1f4487629d4646459e9923bea2461cf3",
       "IPY_MODEL_d1b99c321d8b4256bc9c4267fbafa224",
       "IPY_MODEL_dded254d850e4f86a778aa73439ebc48"
      ],
      "layout": "IPY_MODEL_488efe83bb0c4675a8f7f6c88b2796d6"
     }
    },
    "dded254d850e4f86a778aa73439ebc48": {
     "model_module": "@jupyter-widgets/controls",
     "model_module_version": "1.4.0",
     "model_name": "HTMLModel",
     "state": {
      "_dom_classes": [],
      "_model_module": "@jupyter-widgets/controls",
      "_model_module_version": "1.4.0",
      "_model_name": "HTMLModel",
      "_view_count": null,
      "_view_module": "@jupyter-widgets/controls",
      "_view_module_version": "1.4.0",
      "_view_name": "HTMLView",
      "description": "",
      "description_tooltip": null,
      "layout": "IPY_MODEL_b41078ed64a24f68a69f821fc32791ad",
      "placeholder": "​",
      "style": "IPY_MODEL_7d060cf0423f48d09b5ad434e8254ec2",
      "value": " 2/313 [00:19&lt;50:11,  9.68s/it]"
     }
    }
   }
  }
 },
 "nbformat": 4,
 "nbformat_minor": 4
}
